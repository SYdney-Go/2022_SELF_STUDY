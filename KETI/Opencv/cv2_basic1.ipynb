{
 "cells": [
  {
   "cell_type": "code",
   "execution_count": 10,
   "metadata": {},
   "outputs": [
    {
     "name": "stderr",
     "output_type": "stream",
     "text": [
      "[ WARN:0@190.242] global /io/opencv/modules/imgcodecs/src/loadsave.cpp (239) findDecoder imread_('https://raw.githubusercontent.com/jwkim386/OpenCV_Resources/main/images/starry_night.jpg'): can't open/read file: check file path/integrity\n"
     ]
    }
   ],
   "source": [
    "import cv2\n",
    "import sys\n",
    "\n",
    "cv2.imread(\"https://raw.githubusercontent.com/jwkim386/OpenCV_Resources/main/images/starry_night.jpg\")"
   ]
  },
  {
   "cell_type": "code",
   "execution_count": null,
   "metadata": {},
   "outputs": [],
   "source": []
  }
 ],
 "metadata": {
  "kernelspec": {
   "display_name": "Python 3.8.10 ('ICV_CV_venv': venv)",
   "language": "python",
   "name": "python3"
  },
  "language_info": {
   "codemirror_mode": {
    "name": "ipython",
    "version": 3
   },
   "file_extension": ".py",
   "mimetype": "text/x-python",
   "name": "python",
   "nbconvert_exporter": "python",
   "pygments_lexer": "ipython3",
   "version": "3.8.10"
  },
  "orig_nbformat": 4,
  "vscode": {
   "interpreter": {
    "hash": "271bbe01ac197ad0a012c6b27c549ac34441fc67e348dc5710f579ffc59a42b1"
   }
  }
 },
 "nbformat": 4,
 "nbformat_minor": 2
}
