{
 "cells": [
  {
   "cell_type": "markdown",
   "metadata": {},
   "source": [
    "# Stacking Test-Sklearn, XGBoost, CatBoost, LightGBM\n",
    "https://www.kaggle.com/code/eliotbarr/stacking-test-sklearn-xgboost-catboost-lightgbm/script"
   ]
  },
  {
   "cell_type": "code",
   "execution_count": 29,
   "metadata": {},
   "outputs": [],
   "source": [
    "import pandas as pd\n",
    "import numpy as np\n",
    "from scipy.stats import skew\n",
    "import xgboost as xgb\n",
    "from sklearn.model_selection import KFold\n",
    "from sklearn.ensemble import ExtraTreesClassifier\n",
    "from sklearn.ensemble import RandomForestClassifier\n",
    "from sklearn.metrics import mean_squared_error\n",
    "from sklearn.linear_model import LogisticRegression\n",
    "from math import sqrt\n",
    "from sklearn.metrics import roc_auc_score\n",
    "from sklearn.model_selection import KFold\n",
    "from catboost import CatBoostClassifier\n",
    "from lightgbm import LGBMClassifier\n",
    "import gc"
   ]
  },
  {
   "cell_type": "code",
   "execution_count": 30,
   "metadata": {},
   "outputs": [],
   "source": [
    "NFOLDS = 3\n",
    "SEED = 0\n",
    "NROWS = None"
   ]
  },
  {
   "cell_type": "code",
   "execution_count": 31,
   "metadata": {},
   "outputs": [],
   "source": [
    "data = pd.read_csv('./dataset/application_train.csv')\n",
    "test = pd.read_csv('./dataset/application_test.csv')\n",
    "prev = pd.read_csv('./dataset/previous_application.csv')"
   ]
  },
  {
   "cell_type": "code",
   "execution_count": 32,
   "metadata": {},
   "outputs": [
    {
     "name": "stdout",
     "output_type": "stream",
     "text": [
      "FEATURES                                                |    TYPE |  NB VALUES |    NB NaNS |   NaNs (%)\n",
      "SK_ID_CURR                                              |   int64 |     307511 |          0 |     0.00\n",
      "TARGET                                                  |   int64 |          2 |          0 |     0.00\n",
      "NAME_CONTRACT_TYPE                                      |  object |          2 |          0 |     0.00\n",
      "CODE_GENDER                                             |  object |          3 |          0 |     0.00\n",
      "FLAG_OWN_CAR                                            |  object |          2 |          0 |     0.00\n",
      "FLAG_OWN_REALTY                                         |  object |          2 |          0 |     0.00\n",
      "CNT_CHILDREN                                            |   int64 |         15 |          0 |     0.00\n",
      "AMT_INCOME_TOTAL                                        | float64 |       2548 |          0 |     0.00\n",
      "AMT_CREDIT                                              | float64 |       5603 |          0 |     0.00\n",
      "AMT_ANNUITY                                             | float64 |      13673 |         12 |     0.00\n",
      "AMT_GOODS_PRICE                                         | float64 |       1003 |        278 |     0.09\n",
      "NAME_TYPE_SUITE                                         |  object |          8 |       1292 |     0.42\n",
      "NAME_INCOME_TYPE                                        |  object |          8 |          0 |     0.00\n",
      "NAME_EDUCATION_TYPE                                     |  object |          5 |          0 |     0.00\n",
      "NAME_FAMILY_STATUS                                      |  object |          6 |          0 |     0.00\n",
      "NAME_HOUSING_TYPE                                       |  object |          6 |          0 |     0.00\n",
      "REGION_POPULATION_RELATIVE                              | float64 |         81 |          0 |     0.00\n",
      "DAYS_BIRTH                                              |   int64 |      17460 |          0 |     0.00\n",
      "DAYS_EMPLOYED                                           |   int64 |      12574 |          0 |     0.00\n",
      "DAYS_REGISTRATION                                       | float64 |      15688 |          0 |     0.00\n",
      "DAYS_ID_PUBLISH                                         |   int64 |       6168 |          0 |     0.00\n",
      "OWN_CAR_AGE                                             | float64 |         63 |     202929 |    65.99\n",
      "FLAG_MOBIL                                              |   int64 |          2 |          0 |     0.00\n",
      "FLAG_EMP_PHONE                                          |   int64 |          2 |          0 |     0.00\n",
      "FLAG_WORK_PHONE                                         |   int64 |          2 |          0 |     0.00\n",
      "FLAG_CONT_MOBILE                                        |   int64 |          2 |          0 |     0.00\n",
      "FLAG_PHONE                                              |   int64 |          2 |          0 |     0.00\n",
      "FLAG_EMAIL                                              |   int64 |          2 |          0 |     0.00\n",
      "OCCUPATION_TYPE                                         |  object |         19 |      96391 |    31.35\n",
      "CNT_FAM_MEMBERS                                         | float64 |         18 |          2 |     0.00\n",
      "REGION_RATING_CLIENT                                    |   int64 |          3 |          0 |     0.00\n",
      "REGION_RATING_CLIENT_W_CITY                             |   int64 |          3 |          0 |     0.00\n",
      "WEEKDAY_APPR_PROCESS_START                              |  object |          7 |          0 |     0.00\n",
      "HOUR_APPR_PROCESS_START                                 |   int64 |         24 |          0 |     0.00\n",
      "REG_REGION_NOT_LIVE_REGION                              |   int64 |          2 |          0 |     0.00\n",
      "REG_REGION_NOT_WORK_REGION                              |   int64 |          2 |          0 |     0.00\n",
      "LIVE_REGION_NOT_WORK_REGION                             |   int64 |          2 |          0 |     0.00\n",
      "REG_CITY_NOT_LIVE_CITY                                  |   int64 |          2 |          0 |     0.00\n",
      "REG_CITY_NOT_WORK_CITY                                  |   int64 |          2 |          0 |     0.00\n",
      "LIVE_CITY_NOT_WORK_CITY                                 |   int64 |          2 |          0 |     0.00\n",
      "ORGANIZATION_TYPE                                       |  object |         58 |          0 |     0.00\n",
      "EXT_SOURCE_1                                            | float64 |     114585 |     173378 |    56.38\n",
      "EXT_SOURCE_2                                            | float64 |     119832 |        660 |     0.21\n",
      "EXT_SOURCE_3                                            | float64 |        815 |      60965 |    19.83\n",
      "APARTMENTS_AVG                                          | float64 |       2340 |     156061 |    50.75\n",
      "BASEMENTAREA_AVG                                        | float64 |       3781 |     179943 |    58.52\n",
      "YEARS_BEGINEXPLUATATION_AVG                             | float64 |        286 |     150007 |    48.78\n",
      "YEARS_BUILD_AVG                                         | float64 |        150 |     204488 |    66.50\n",
      "COMMONAREA_AVG                                          | float64 |       3182 |     214865 |    69.87\n",
      "ELEVATORS_AVG                                           | float64 |        258 |     163891 |    53.30\n",
      "ENTRANCES_AVG                                           | float64 |        286 |     154828 |    50.35\n",
      "FLOORSMAX_AVG                                           | float64 |        404 |     153020 |    49.76\n",
      "FLOORSMIN_AVG                                           | float64 |        306 |     208642 |    67.85\n",
      "LANDAREA_AVG                                            | float64 |       3528 |     182590 |    59.38\n",
      "LIVINGAPARTMENTS_AVG                                    | float64 |       1869 |     210199 |    68.35\n",
      "LIVINGAREA_AVG                                          | float64 |       5200 |     154350 |    50.19\n",
      "NONLIVINGAPARTMENTS_AVG                                 | float64 |        387 |     213514 |    69.43\n",
      "NONLIVINGAREA_AVG                                       | float64 |       3291 |     169682 |    55.18\n",
      "APARTMENTS_MODE                                         | float64 |        761 |     156061 |    50.75\n",
      "BASEMENTAREA_MODE                                       | float64 |       3842 |     179943 |    58.52\n",
      "YEARS_BEGINEXPLUATATION_MODE                            | float64 |        222 |     150007 |    48.78\n",
      "YEARS_BUILD_MODE                                        | float64 |        155 |     204488 |    66.50\n",
      "COMMONAREA_MODE                                         | float64 |       3129 |     214865 |    69.87\n",
      "ELEVATORS_MODE                                          | float64 |         27 |     163891 |    53.30\n",
      "ENTRANCES_MODE                                          | float64 |         31 |     154828 |    50.35\n",
      "FLOORSMAX_MODE                                          | float64 |         26 |     153020 |    49.76\n",
      "FLOORSMIN_MODE                                          | float64 |         26 |     208642 |    67.85\n",
      "LANDAREA_MODE                                           | float64 |       3564 |     182590 |    59.38\n",
      "LIVINGAPARTMENTS_MODE                                   | float64 |        737 |     210199 |    68.35\n",
      "LIVINGAREA_MODE                                         | float64 |       5302 |     154350 |    50.19\n",
      "NONLIVINGAPARTMENTS_MODE                                | float64 |        168 |     213514 |    69.43\n",
      "NONLIVINGAREA_MODE                                      | float64 |       3328 |     169682 |    55.18\n",
      "APARTMENTS_MEDI                                         | float64 |       1149 |     156061 |    50.75\n",
      "BASEMENTAREA_MEDI                                       | float64 |       3773 |     179943 |    58.52\n",
      "YEARS_BEGINEXPLUATATION_MEDI                            | float64 |        246 |     150007 |    48.78\n",
      "YEARS_BUILD_MEDI                                        | float64 |        152 |     204488 |    66.50\n",
      "COMMONAREA_MEDI                                         | float64 |       3203 |     214865 |    69.87\n",
      "ELEVATORS_MEDI                                          | float64 |         47 |     163891 |    53.30\n",
      "ENTRANCES_MEDI                                          | float64 |         47 |     154828 |    50.35\n",
      "FLOORSMAX_MEDI                                          | float64 |         50 |     153020 |    49.76\n",
      "FLOORSMIN_MEDI                                          | float64 |         48 |     208642 |    67.85\n",
      "LANDAREA_MEDI                                           | float64 |       3561 |     182590 |    59.38\n",
      "LIVINGAPARTMENTS_MEDI                                   | float64 |       1098 |     210199 |    68.35\n",
      "LIVINGAREA_MEDI                                         | float64 |       5282 |     154350 |    50.19\n",
      "NONLIVINGAPARTMENTS_MEDI                                | float64 |        215 |     213514 |    69.43\n",
      "NONLIVINGAREA_MEDI                                      | float64 |       3324 |     169682 |    55.18\n",
      "FONDKAPREMONT_MODE                                      |  object |          5 |     210295 |    68.39\n",
      "HOUSETYPE_MODE                                          |  object |          4 |     154297 |    50.18\n",
      "TOTALAREA_MODE                                          | float64 |       5117 |     148431 |    48.27\n",
      "WALLSMATERIAL_MODE                                      |  object |          8 |     156341 |    50.84\n",
      "EMERGENCYSTATE_MODE                                     |  object |          3 |     145755 |    47.40\n",
      "OBS_30_CNT_SOCIAL_CIRCLE                                | float64 |         34 |       1021 |     0.33\n",
      "DEF_30_CNT_SOCIAL_CIRCLE                                | float64 |         11 |       1021 |     0.33\n",
      "OBS_60_CNT_SOCIAL_CIRCLE                                | float64 |         34 |       1021 |     0.33\n",
      "DEF_60_CNT_SOCIAL_CIRCLE                                | float64 |         10 |       1021 |     0.33\n",
      "DAYS_LAST_PHONE_CHANGE                                  | float64 |       3774 |          1 |     0.00\n",
      "FLAG_DOCUMENT_2                                         |   int64 |          2 |          0 |     0.00\n",
      "FLAG_DOCUMENT_3                                         |   int64 |          2 |          0 |     0.00\n",
      "FLAG_DOCUMENT_4                                         |   int64 |          2 |          0 |     0.00\n",
      "FLAG_DOCUMENT_5                                         |   int64 |          2 |          0 |     0.00\n",
      "FLAG_DOCUMENT_6                                         |   int64 |          2 |          0 |     0.00\n",
      "FLAG_DOCUMENT_7                                         |   int64 |          2 |          0 |     0.00\n",
      "FLAG_DOCUMENT_8                                         |   int64 |          2 |          0 |     0.00\n",
      "FLAG_DOCUMENT_9                                         |   int64 |          2 |          0 |     0.00\n",
      "FLAG_DOCUMENT_10                                        |   int64 |          2 |          0 |     0.00\n",
      "FLAG_DOCUMENT_11                                        |   int64 |          2 |          0 |     0.00\n",
      "FLAG_DOCUMENT_12                                        |   int64 |          2 |          0 |     0.00\n",
      "FLAG_DOCUMENT_13                                        |   int64 |          2 |          0 |     0.00\n",
      "FLAG_DOCUMENT_14                                        |   int64 |          2 |          0 |     0.00\n",
      "FLAG_DOCUMENT_15                                        |   int64 |          2 |          0 |     0.00\n",
      "FLAG_DOCUMENT_16                                        |   int64 |          2 |          0 |     0.00\n",
      "FLAG_DOCUMENT_17                                        |   int64 |          2 |          0 |     0.00\n",
      "FLAG_DOCUMENT_18                                        |   int64 |          2 |          0 |     0.00\n",
      "FLAG_DOCUMENT_19                                        |   int64 |          2 |          0 |     0.00\n",
      "FLAG_DOCUMENT_20                                        |   int64 |          2 |          0 |     0.00\n",
      "FLAG_DOCUMENT_21                                        |   int64 |          2 |          0 |     0.00\n",
      "AMT_REQ_CREDIT_BUREAU_HOUR                              | float64 |          6 |      41519 |    13.50\n",
      "AMT_REQ_CREDIT_BUREAU_DAY                               | float64 |         10 |      41519 |    13.50\n",
      "AMT_REQ_CREDIT_BUREAU_WEEK                              | float64 |         10 |      41519 |    13.50\n",
      "AMT_REQ_CREDIT_BUREAU_MON                               | float64 |         25 |      41519 |    13.50\n",
      "AMT_REQ_CREDIT_BUREAU_QRT                               | float64 |         12 |      41519 |    13.50\n",
      "AMT_REQ_CREDIT_BUREAU_YEAR                              | float64 |         26 |      41519 |    13.50\n"
     ]
    }
   ],
   "source": [
    "print('%-55s | %7s | %10s | %10s | %10s' \n",
    "      % ('FEATURES', 'TYPE', 'NB VALUES', 'NB NaNS', 'NaNs (%)'))\n",
    "for f_ in data: # .dtypes\n",
    "    print(\"%-55s | %7s | %10s | %10s |    %5.2f\"\n",
    "          % (f_, str(data[f_].dtype), \n",
    "             str(len(data[f_].value_counts(dropna=False))), \n",
    "             str(data[f_].isnull().sum()),\n",
    "             100 * data[f_].isnull().sum() / data.shape[0]))"
   ]
  },
  {
   "cell_type": "code",
   "execution_count": 33,
   "metadata": {},
   "outputs": [],
   "source": [
    "categorical_feats = [f for f in data.columns if data[f].dtype == 'object']"
   ]
  },
  {
   "cell_type": "code",
   "execution_count": 34,
   "metadata": {},
   "outputs": [],
   "source": [
    "for f_ in categorical_feats:\n",
    "    data[f_], indexer = pd.factorize(data[f_])\n",
    "    test[f_] = indexer.get_indexer(test[f_])\n",
    "    \n",
    "gc.enable()"
   ]
  },
  {
   "cell_type": "code",
   "execution_count": 35,
   "metadata": {},
   "outputs": [],
   "source": [
    "y_train = data['TARGET']\n",
    "del data['TARGET']"
   ]
  },
  {
   "cell_type": "code",
   "execution_count": 36,
   "metadata": {},
   "outputs": [],
   "source": [
    "prev_cat_features = [\n",
    "    f_ for f_ in prev.columns if prev[f_].dtype == 'object']\n",
    "    \n",
    "for f_ in prev_cat_features:\n",
    "    prev[f_], _ = pd.factorize(prev[f_])"
   ]
  },
  {
   "cell_type": "code",
   "execution_count": 37,
   "metadata": {},
   "outputs": [],
   "source": [
    "avg_prev = prev.groupby('SK_ID_CURR').mean()\n",
    "cnt_prev = prev[['SK_ID_CURR', 'SK_ID_PREV']].groupby('SK_ID_CURR').count()\n",
    "avg_prev['nb_app'] = cnt_prev['SK_ID_PREV']\n",
    "del avg_prev['SK_ID_PREV']"
   ]
  },
  {
   "cell_type": "code",
   "execution_count": 38,
   "metadata": {},
   "outputs": [],
   "source": [
    "x_train = data.merge(right=avg_prev.reset_index(), how='left', on='SK_ID_CURR')\n",
    "x_test = test.merge(right=avg_prev.reset_index(), how='left', on='SK_ID_CURR')"
   ]
  },
  {
   "cell_type": "code",
   "execution_count": 39,
   "metadata": {},
   "outputs": [],
   "source": [
    "x_train = x_train.fillna(0)\n",
    "x_test= x_test.fillna(0)"
   ]
  },
  {
   "cell_type": "code",
   "execution_count": 40,
   "metadata": {},
   "outputs": [],
   "source": [
    "ntrain = x_train.shape[0]\n",
    "ntest = x_test.shape[0]"
   ]
  },
  {
   "cell_type": "code",
   "execution_count": 41,
   "metadata": {},
   "outputs": [],
   "source": [
    "excluded_feats = ['SK_ID_CURR']\n",
    "features = [f_ for f_ in x_train.columns if f_ not in excluded_feats]"
   ]
  },
  {
   "cell_type": "code",
   "execution_count": 42,
   "metadata": {},
   "outputs": [],
   "source": [
    "x_train = x_train[features]\n",
    "x_test = x_test[features]"
   ]
  },
  {
   "cell_type": "code",
   "execution_count": 43,
   "metadata": {},
   "outputs": [],
   "source": [
    "kf = KFold(n_splits = NFOLDS, shuffle=True, random_state=SEED)"
   ]
  },
  {
   "cell_type": "code",
   "execution_count": 44,
   "metadata": {},
   "outputs": [],
   "source": [
    "class SklearnWrapper(object):\n",
    "    def __init__(self, clf, seed=0, params=None):\n",
    "        params['random_state'] = seed\n",
    "        self.clf = clf(**params)\n",
    "\n",
    "    def train(self, x_train, y_train):\n",
    "        self.clf.fit(x_train, y_train)\n",
    "\n",
    "    def predict(self, x):\n",
    "        return self.clf.predict_proba(x)[:,1]"
   ]
  },
  {
   "cell_type": "code",
   "execution_count": 45,
   "metadata": {},
   "outputs": [],
   "source": [
    "class CatboostWrapper(object):\n",
    "    def __init__(self, clf, seed=0, params=None):\n",
    "        params['random_seed'] = seed\n",
    "        self.clf = clf(**params)\n",
    "\n",
    "    def train(self, x_train, y_train):\n",
    "        self.clf.fit(x_train, y_train)\n",
    "\n",
    "    def predict(self, x):\n",
    "        return self.clf.predict_proba(x)[:,1]"
   ]
  },
  {
   "cell_type": "code",
   "execution_count": 46,
   "metadata": {},
   "outputs": [],
   "source": [
    "class LightGBMWrapper(object):\n",
    "    def __init__(self, clf, seed=0, params=None):\n",
    "        params['feature_fraction_seed'] = seed\n",
    "        params['bagging_seed'] = seed\n",
    "        self.clf = clf(**params)\n",
    "\n",
    "    def train(self, x_train, y_train):\n",
    "        self.clf.fit(x_train, y_train)\n",
    "\n",
    "    def predict(self, x):\n",
    "        return self.clf.predict_proba(x)[:,1]"
   ]
  },
  {
   "cell_type": "code",
   "execution_count": 47,
   "metadata": {},
   "outputs": [],
   "source": [
    "class XgbWrapper(object):\n",
    "    def __init__(self, seed=0, params=None):\n",
    "        self.param = params\n",
    "        self.param['seed'] = seed\n",
    "        self.nrounds = params.pop('nrounds', 250)\n",
    "\n",
    "    def train(self, x_train, y_train):\n",
    "        dtrain = xgb.DMatrix(x_train, label=y_train)\n",
    "        self.gbdt = xgb.train(self.param, dtrain, self.nrounds)\n",
    "\n",
    "    def predict(self, x):\n",
    "        return self.gbdt.predict(xgb.DMatrix(x))"
   ]
  },
  {
   "cell_type": "code",
   "execution_count": 48,
   "metadata": {},
   "outputs": [],
   "source": [
    "def get_oof(clf):\n",
    "    oof_train = np.zeros((ntrain,))\n",
    "    oof_test = np.zeros((ntest,))\n",
    "    oof_test_skf = np.empty((NFOLDS, ntest))\n",
    "\n",
    "    for i, (train_index, test_index) in enumerate(kf.split(x_train)):\n",
    "        x_tr = x_train.loc[train_index]\n",
    "        y_tr = y_train.loc[train_index]\n",
    "        x_te = x_train.loc[test_index]\n",
    "\n",
    "        clf.train(x_tr, y_tr)\n",
    "\n",
    "        oof_train[test_index] = clf.predict(x_te)\n",
    "        oof_test_skf[i, :] = clf.predict(x_test)\n",
    "\n",
    "    oof_test[:] = oof_test_skf.mean(axis=0)\n",
    "    return oof_train.reshape(-1, 1), oof_test.reshape(-1, 1)"
   ]
  },
  {
   "cell_type": "code",
   "execution_count": 49,
   "metadata": {},
   "outputs": [],
   "source": [
    "et_params = {\n",
    "    'n_jobs': 16,\n",
    "    'n_estimators': 200,\n",
    "    'max_features': 0.5,\n",
    "    'max_depth': 12,\n",
    "    'min_samples_leaf': 2,}\n",
    "\n",
    "rf_params = {\n",
    "    'n_jobs': 16,\n",
    "    'n_estimators': 200,\n",
    "    'max_features': 0.2,\n",
    "    'max_depth': 12,\n",
    "    'min_samples_leaf': 2,}\n",
    "\n",
    "xgb_params = {\n",
    "    'seed': 0,\n",
    "    'colsample_bytree': 0.7,\n",
    "    'silent': 1,\n",
    "    'subsample': 0.7,\n",
    "    'learning_rate': 0.075,\n",
    "    'objective': 'binary:logistic',\n",
    "    'max_depth': 4,\n",
    "    'num_parallel_tree': 1,\n",
    "    'min_child_weight': 1,\n",
    "    'nrounds': 200}\n",
    "\n",
    "catboost_params = {\n",
    "    'iterations': 200,\n",
    "    'learning_rate': 0.5,\n",
    "    'depth': 3,\n",
    "    'l2_leaf_reg': 40,\n",
    "    'bootstrap_type': 'Bernoulli',\n",
    "    'subsample': 0.7,\n",
    "    'scale_pos_weight': 5,\n",
    "    'eval_metric': 'AUC',\n",
    "    'od_type': 'Iter',\n",
    "    'allow_writing_files': False}\n",
    "\n",
    "lightgbm_params = {\n",
    "    'n_estimators':200,\n",
    "    'learning_rate':0.1,\n",
    "    'num_leaves':123,\n",
    "    'colsample_bytree':0.8,\n",
    "    'subsample':0.9,\n",
    "    'max_depth':15,\n",
    "    'reg_alpha':0.1,\n",
    "    'reg_lambda':0.1,\n",
    "    'min_split_gain':0.01,\n",
    "    'min_child_weight':2}"
   ]
  },
  {
   "cell_type": "code",
   "execution_count": 50,
   "metadata": {},
   "outputs": [],
   "source": [
    "xg = XgbWrapper(seed=SEED, params=xgb_params)\n",
    "et = SklearnWrapper(clf=ExtraTreesClassifier, seed=SEED, params=et_params)\n",
    "rf = SklearnWrapper(clf=RandomForestClassifier, seed=SEED, params=rf_params)\n",
    "cb = CatboostWrapper(clf= CatBoostClassifier, seed = SEED, params=catboost_params)\n",
    "lg = LightGBMWrapper(clf = LGBMClassifier, seed = SEED, params = lightgbm_params)"
   ]
  },
  {
   "cell_type": "code",
   "execution_count": null,
   "metadata": {},
   "outputs": [],
   "source": [
    "xg_oof_train, xg_oof_test = get_oof(xg)"
   ]
  },
  {
   "cell_type": "code",
   "execution_count": null,
   "metadata": {},
   "outputs": [],
   "source": [
    "et_oof_train, et_oof_test = get_oof(et)"
   ]
  },
  {
   "cell_type": "code",
   "execution_count": null,
   "metadata": {},
   "outputs": [],
   "source": [
    "rf_oof_train, rf_oof_test = get_oof(rf)"
   ]
  },
  {
   "cell_type": "code",
   "execution_count": null,
   "metadata": {},
   "outputs": [],
   "source": [
    "cb_oof_train, cb_oof_test = get_oof(cb)"
   ]
  },
  {
   "cell_type": "code",
   "execution_count": 51,
   "metadata": {},
   "outputs": [
    {
     "name": "stdout",
     "output_type": "stream",
     "text": [
      "[09:59:33] WARNING: ../src/learner.cc:627: \n",
      "Parameters: { \"silent\" } might not be used.\n",
      "\n",
      "  This could be a false alarm, with some parameters getting used by language bindings but\n",
      "  then being mistakenly passed down to XGBoost core, or some parameter actually being used\n",
      "  but getting flagged wrongly here. Please open an issue if you find any such cases.\n",
      "\n",
      "\n",
      "[10:00:15] WARNING: ../src/learner.cc:627: \n",
      "Parameters: { \"silent\" } might not be used.\n",
      "\n",
      "  This could be a false alarm, with some parameters getting used by language bindings but\n",
      "  then being mistakenly passed down to XGBoost core, or some parameter actually being used\n",
      "  but getting flagged wrongly here. Please open an issue if you find any such cases.\n",
      "\n",
      "\n",
      "[10:01:02] WARNING: ../src/learner.cc:627: \n",
      "Parameters: { \"silent\" } might not be used.\n",
      "\n",
      "  This could be a false alarm, with some parameters getting used by language bindings but\n",
      "  then being mistakenly passed down to XGBoost core, or some parameter actually being used\n",
      "  but getting flagged wrongly here. Please open an issue if you find any such cases.\n",
      "\n",
      "\n"
     ]
    }
   ],
   "source": [
    "xg_oof_train, xg_oof_test = get_oof(xg)\n",
    "et_oof_train, et_oof_test = get_oof(et)\n",
    "rf_oof_train, rf_oof_test = get_oof(rf)\n",
    "cb_oof_train, cb_oof_test = get_oof(cb)"
   ]
  },
  {
   "cell_type": "code",
   "execution_count": null,
   "metadata": {},
   "outputs": [],
   "source": [
    "print(\"XG-CV: {}\".format(sqrt(mean_squared_error(y_train, xg_oof_train))))\n",
    "print(\"ET-CV: {}\".format(sqrt(mean_squared_error(y_train, et_oof_train))))\n",
    "print(\"RF-CV: {}\".format(sqrt(mean_squared_error(y_train, rf_oof_train))))\n",
    "print(\"RF-CV: {}\".format(sqrt(mean_squared_error(y_train, cb_oof_train))))"
   ]
  },
  {
   "cell_type": "code",
   "execution_count": null,
   "metadata": {},
   "outputs": [],
   "source": [
    "x_train = np.concatenate((xg_oof_train, et_oof_train, rf_oof_train, cb_oof_train), axis=1)\n",
    "x_test = np.concatenate((xg_oof_test, et_oof_test, rf_oof_test, cb_oof_test), axis=1)\n",
    "\n",
    "print(\"{},{}\".format(x_train.shape, x_test.shape))"
   ]
  },
  {
   "cell_type": "code",
   "execution_count": null,
   "metadata": {},
   "outputs": [],
   "source": [
    "logistic_regression = LogisticRegression()\n",
    "logistic_regression.fit(x_train,y_train)"
   ]
  },
  {
   "cell_type": "code",
   "execution_count": null,
   "metadata": {},
   "outputs": [],
   "source": [
    "test['TARGET'] = logistic_regression.predict_proba(x_test)[:,1]\n",
    "\n",
    "test[['SK_ID_CURR', 'TARGET']].to_csv('first_submission.csv', index=False, float_format='%.8f')"
   ]
  },
  {
   "cell_type": "code",
   "execution_count": null,
   "metadata": {},
   "outputs": [],
   "source": []
  }
 ],
 "metadata": {
  "interpreter": {
   "hash": "5c33b7878cca4a2294cad8d4aed6c55565b93a44d9a0206df8ac5a8ef8bb0438"
  },
  "kernelspec": {
   "display_name": "Python 3.8.10 ('HouseCreditRisk_venv': venv)",
   "language": "python",
   "name": "python3"
  },
  "language_info": {
   "codemirror_mode": {
    "name": "ipython",
    "version": 3
   },
   "file_extension": ".py",
   "mimetype": "text/x-python",
   "name": "python",
   "nbconvert_exporter": "python",
   "pygments_lexer": "ipython3",
   "version": "3.8.10"
  },
  "orig_nbformat": 4
 },
 "nbformat": 4,
 "nbformat_minor": 2
}
