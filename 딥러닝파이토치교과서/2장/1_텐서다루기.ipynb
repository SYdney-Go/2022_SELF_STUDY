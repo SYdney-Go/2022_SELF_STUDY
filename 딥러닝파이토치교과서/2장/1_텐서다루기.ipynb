{
 "cells": [
  {
   "cell_type": "markdown",
   "metadata": {},
   "source": [
    "### 텐서의 생성 및 변환\n",
    "* 텐서 : 파이토치의 가장 기본이 되는 데이터 구조"
   ]
  },
  {
   "cell_type": "markdown",
   "metadata": {},
   "source": [
    "(1) 텐서의 생성"
   ]
  },
  {
   "cell_type": "code",
   "execution_count": 1,
   "metadata": {},
   "outputs": [
    {
     "name": "stdout",
     "output_type": "stream",
     "text": [
      "tensor([[1, 2],\n",
      "        [3, 4]])\n",
      "tensor([[1, 2],\n",
      "        [3, 4]], device='cuda:0')\n",
      "tensor([[1., 2.],\n",
      "        [3., 4.]], dtype=torch.float64)\n"
     ]
    }
   ],
   "source": [
    "import torch\n",
    "\n",
    "## 2차원의 텐서 생성\n",
    "print(torch.tensor([[1,2], [3,4]]))\n",
    "## GPU에 텐서 생성\n",
    "print(torch.tensor([[1,2], [3,4]], device=\"cuda:0\"))\n",
    "## dtype을 이용하여 텐서를 생성\n",
    "print(torch.tensor([[1,2], [3,4]], dtype=torch.float64))"
   ]
  },
  {
   "cell_type": "markdown",
   "metadata": {},
   "source": [
    "(2) 텐서를 ndarray로 변환"
   ]
  },
  {
   "cell_type": "code",
   "execution_count": 7,
   "metadata": {},
   "outputs": [
    {
     "name": "stdout",
     "output_type": "stream",
     "text": [
      "temp : \n",
      " [[1 2]\n",
      " [3 4]]\n",
      "Type of temp :  <class 'numpy.ndarray'>\n",
      "-------------------------------------\n",
      "temp : \n",
      " [[1 2]\n",
      " [3 4]]\n",
      "Type of temp :  <class 'numpy.ndarray'>\n"
     ]
    }
   ],
   "source": [
    "import numpy\n",
    "\n",
    "temp = torch.tensor([[1,2], [3,4]])\n",
    "print(\"temp : \\n\", temp.numpy())\n",
    "print(\"Type of temp : \", type(temp.numpy()))\n",
    "\n",
    "print(\"-------------------------------------\")\n",
    "\n",
    "temp = torch.tensor([[1,2], [3,4]], device=\"cuda:0\")\n",
    "print(\"temp : \\n\", temp.to(\"cpu\").numpy())\n",
    "print(\"Type of temp : \",type(temp.to(\"cpu\").numpy()))"
   ]
  },
  {
   "cell_type": "markdown",
   "metadata": {},
   "source": [
    "(3) 텐서의 인덱스 조절"
   ]
  },
  {
   "cell_type": "code",
   "execution_count": 8,
   "metadata": {},
   "outputs": [
    {
     "name": "stdout",
     "output_type": "stream",
     "text": [
      "tensor(1.) tensor(2.) tensor(7.)\n",
      "----------------------------------\n",
      "tensor([3., 4., 5.]) tensor([5., 6.])\n"
     ]
    }
   ],
   "source": [
    "temp = torch.FloatTensor([1,2,3,4,5,6,7])\n",
    "\n",
    "print(temp[0], temp[1], temp[-1])\n",
    "print(\"----------------------------------\")\n",
    "print(temp[2:5], temp[4:-1])"
   ]
  },
  {
   "cell_type": "markdown",
   "metadata": {},
   "source": [
    "(4) 텐서의 연산"
   ]
  },
  {
   "cell_type": "code",
   "execution_count": 9,
   "metadata": {},
   "outputs": [
    {
     "name": "stdout",
     "output_type": "stream",
     "text": [
      "w :  tensor([3, 4, 6])\n",
      "v :  tensor([1, 2, 3])\n",
      "w - v :  tensor([2, 2, 3])\n"
     ]
    }
   ],
   "source": [
    "v = torch.tensor([1,2,3])\n",
    "w = torch.tensor([3,4,6])\n",
    "print(\"w : \", w)\n",
    "print(\"v : \", v)\n",
    "print(\"w - v : \", w-v)"
   ]
  },
  {
   "cell_type": "markdown",
   "metadata": {},
   "source": [
    "(5) 텐서의 차원 조작"
   ]
  },
  {
   "cell_type": "code",
   "execution_count": 17,
   "metadata": {},
   "outputs": [
    {
     "name": "stdout",
     "output_type": "stream",
     "text": [
      "[Original temp]\n",
      " tensor([[1, 2],\n",
      "        [3, 4]])\n",
      "Original temp shape :  torch.Size([2, 2])\n",
      "-------------------------------------\n",
      "[Reshape (4, 1)] \n",
      " tensor([[1],\n",
      "        [2],\n",
      "        [3],\n",
      "        [4]])\n",
      "--------------------------------------\n",
      "[Reshape (-1)] = 차원 하나 \n",
      " tensor([1, 2, 3, 4])\n",
      "--------------------------------------\n",
      "[Reshape (1, -1)  = (1, 4)] \n",
      " tensor([[1, 2, 3, 4]])\n",
      "--------------------------------------\n",
      "[Reshape (-1, 1) = (4, 1)] \n",
      " tensor([[1],\n",
      "        [2],\n",
      "        [3],\n",
      "        [4]])\n"
     ]
    }
   ],
   "source": [
    "temp = torch.tensor([[1,2], [3,4]])\n",
    "print(\"[Original temp]\\n\", temp)\n",
    "print(\"Original temp shape : \", temp.shape)\n",
    "print(\"-------------------------------------\")\n",
    "print(\"[Reshape (4, 1)] \\n\", temp.view(4,1))\n",
    "print(\"--------------------------------------\")\n",
    "print(\"[Reshape (-1)] = 차원 하나 \\n\", temp.view(-1))\n",
    "print(\"--------------------------------------\")\n",
    "print(\"[Reshape (1, -1)  = (1, 4)] \\n\", temp.view(1, -1))\n",
    "print(\"--------------------------------------\")\n",
    "print(\"[Reshape (-1, 1) = (4, 1)] \\n\", temp.view(-1, 1))"
   ]
  }
 ],
 "metadata": {
  "interpreter": {
   "hash": "be2f8b69f8ed956b49f7f6168c2e75f7de12de890ba504612cd4d4039b5ebf3e"
  },
  "kernelspec": {
   "display_name": "Python 3.8.10 ('DeepLearningPytorch_venv': venv)",
   "language": "python",
   "name": "python3"
  },
  "language_info": {
   "codemirror_mode": {
    "name": "ipython",
    "version": 3
   },
   "file_extension": ".py",
   "mimetype": "text/x-python",
   "name": "python",
   "nbconvert_exporter": "python",
   "pygments_lexer": "ipython3",
   "version": "3.8.10"
  },
  "orig_nbformat": 4
 },
 "nbformat": 4,
 "nbformat_minor": 2
}
