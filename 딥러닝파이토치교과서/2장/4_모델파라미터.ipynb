{
 "cells": [
  {
   "cell_type": "code",
   "execution_count": null,
   "metadata": {},
   "outputs": [],
   "source": [
    "import torch\n",
    "\n",
    "from torch.optim import optimizer\n",
    "\n",
    "creterion = torch.nn.MSELoss()\n",
    "optimizer = torch.optim.SGD(model.parameters(), lr=0.01, momentum=0.9)\n",
    "scheduler = torch.optim.lr_scheduler.LambdaLR(optimizer, lr_lambda=lambda epoch:0.95**epoch)\n",
    "\n",
    "for i in range(1, 100+1):\n",
    "    for x, y in dataloader:\n",
    "        optimizer.zerograd()\n",
    "\n",
    "loss_fn(model(x), y).backward()\n",
    "optimizer.step()\n",
    "scheduler.step()"
   ]
  }
 ],
 "metadata": {
  "kernelspec": {
   "display_name": "Python 3.8.10 ('DeepLearningPytorch_venv': venv)",
   "language": "python",
   "name": "python3"
  },
  "language_info": {
   "name": "python",
   "version": "3.8.10"
  },
  "orig_nbformat": 4,
  "vscode": {
   "interpreter": {
    "hash": "be2f8b69f8ed956b49f7f6168c2e75f7de12de890ba504612cd4d4039b5ebf3e"
   }
  }
 },
 "nbformat": 4,
 "nbformat_minor": 2
}
