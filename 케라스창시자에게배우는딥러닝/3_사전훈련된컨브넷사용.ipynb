{
 "cells": [
  {
   "cell_type": "markdown",
   "metadata": {},
   "source": [
    "### 5.3.1 특성 추출"
   ]
  },
  {
   "cell_type": "code",
   "execution_count": 1,
   "metadata": {},
   "outputs": [
    {
     "name": "stderr",
     "output_type": "stream",
     "text": [
      "2022-04-19 08:45:13.818248: I tensorflow/stream_executor/cuda/cuda_gpu_executor.cc:936] successful NUMA node read from SysFS had negative value (-1), but there must be at least one NUMA node, so returning NUMA node zero\n",
      "2022-04-19 08:45:13.850341: I tensorflow/stream_executor/cuda/cuda_gpu_executor.cc:936] successful NUMA node read from SysFS had negative value (-1), but there must be at least one NUMA node, so returning NUMA node zero\n",
      "2022-04-19 08:45:13.850562: I tensorflow/stream_executor/cuda/cuda_gpu_executor.cc:936] successful NUMA node read from SysFS had negative value (-1), but there must be at least one NUMA node, so returning NUMA node zero\n",
      "2022-04-19 08:45:13.851518: I tensorflow/core/platform/cpu_feature_guard.cc:151] This TensorFlow binary is optimized with oneAPI Deep Neural Network Library (oneDNN) to use the following CPU instructions in performance-critical operations:  AVX2 FMA\n",
      "To enable them in other operations, rebuild TensorFlow with the appropriate compiler flags.\n",
      "2022-04-19 08:45:13.853059: I tensorflow/stream_executor/cuda/cuda_gpu_executor.cc:936] successful NUMA node read from SysFS had negative value (-1), but there must be at least one NUMA node, so returning NUMA node zero\n",
      "2022-04-19 08:45:13.853264: I tensorflow/stream_executor/cuda/cuda_gpu_executor.cc:936] successful NUMA node read from SysFS had negative value (-1), but there must be at least one NUMA node, so returning NUMA node zero\n",
      "2022-04-19 08:45:13.853435: I tensorflow/stream_executor/cuda/cuda_gpu_executor.cc:936] successful NUMA node read from SysFS had negative value (-1), but there must be at least one NUMA node, so returning NUMA node zero\n",
      "2022-04-19 08:45:14.785675: I tensorflow/stream_executor/cuda/cuda_gpu_executor.cc:936] successful NUMA node read from SysFS had negative value (-1), but there must be at least one NUMA node, so returning NUMA node zero\n",
      "2022-04-19 08:45:14.785979: I tensorflow/stream_executor/cuda/cuda_gpu_executor.cc:936] successful NUMA node read from SysFS had negative value (-1), but there must be at least one NUMA node, so returning NUMA node zero\n",
      "2022-04-19 08:45:14.786256: I tensorflow/stream_executor/cuda/cuda_gpu_executor.cc:936] successful NUMA node read from SysFS had negative value (-1), but there must be at least one NUMA node, so returning NUMA node zero\n",
      "2022-04-19 08:45:14.786888: I tensorflow/core/common_runtime/gpu/gpu_device.cc:1525] Created device /job:localhost/replica:0/task:0/device:GPU:0 with 2643 MB memory:  -> device: 0, name: NVIDIA GeForce GTX 1650 with Max-Q Design, pci bus id: 0000:02:00.0, compute capability: 7.5\n"
     ]
    }
   ],
   "source": [
    "from tensorflow.keras.applications import VGG16\n",
    "\n",
    "conv_base = VGG16(weights=\"imagenet\",\n",
    "                  include_top=False,\n",
    "                  input_shape=(150,150,3))"
   ]
  },
  {
   "cell_type": "code",
   "execution_count": 2,
   "metadata": {},
   "outputs": [
    {
     "name": "stdout",
     "output_type": "stream",
     "text": [
      "Model: \"vgg16\"\n",
      "_________________________________________________________________\n",
      " Layer (type)                Output Shape              Param #   \n",
      "=================================================================\n",
      " input_1 (InputLayer)        [(None, 150, 150, 3)]     0         \n",
      "                                                                 \n",
      " block1_conv1 (Conv2D)       (None, 150, 150, 64)      1792      \n",
      "                                                                 \n",
      " block1_conv2 (Conv2D)       (None, 150, 150, 64)      36928     \n",
      "                                                                 \n",
      " block1_pool (MaxPooling2D)  (None, 75, 75, 64)        0         \n",
      "                                                                 \n",
      " block2_conv1 (Conv2D)       (None, 75, 75, 128)       73856     \n",
      "                                                                 \n",
      " block2_conv2 (Conv2D)       (None, 75, 75, 128)       147584    \n",
      "                                                                 \n",
      " block2_pool (MaxPooling2D)  (None, 37, 37, 128)       0         \n",
      "                                                                 \n",
      " block3_conv1 (Conv2D)       (None, 37, 37, 256)       295168    \n",
      "                                                                 \n",
      " block3_conv2 (Conv2D)       (None, 37, 37, 256)       590080    \n",
      "                                                                 \n",
      " block3_conv3 (Conv2D)       (None, 37, 37, 256)       590080    \n",
      "                                                                 \n",
      " block3_pool (MaxPooling2D)  (None, 18, 18, 256)       0         \n",
      "                                                                 \n",
      " block4_conv1 (Conv2D)       (None, 18, 18, 512)       1180160   \n",
      "                                                                 \n",
      " block4_conv2 (Conv2D)       (None, 18, 18, 512)       2359808   \n",
      "                                                                 \n",
      " block4_conv3 (Conv2D)       (None, 18, 18, 512)       2359808   \n",
      "                                                                 \n",
      " block4_pool (MaxPooling2D)  (None, 9, 9, 512)         0         \n",
      "                                                                 \n",
      " block5_conv1 (Conv2D)       (None, 9, 9, 512)         2359808   \n",
      "                                                                 \n",
      " block5_conv2 (Conv2D)       (None, 9, 9, 512)         2359808   \n",
      "                                                                 \n",
      " block5_conv3 (Conv2D)       (None, 9, 9, 512)         2359808   \n",
      "                                                                 \n",
      " block5_pool (MaxPooling2D)  (None, 4, 4, 512)         0         \n",
      "                                                                 \n",
      "=================================================================\n",
      "Total params: 14,714,688\n",
      "Trainable params: 14,714,688\n",
      "Non-trainable params: 0\n",
      "_________________________________________________________________\n"
     ]
    }
   ],
   "source": [
    "conv_base.summary()"
   ]
  },
  {
   "cell_type": "markdown",
   "metadata": {},
   "source": [
    "1. 데이터 증식을 사용하지 않는 빠른 특성 추출"
   ]
  },
  {
   "cell_type": "code",
   "execution_count": 3,
   "metadata": {},
   "outputs": [
    {
     "name": "stdout",
     "output_type": "stream",
     "text": [
      "Found 1999 images belonging to 2 classes.\n"
     ]
    },
    {
     "name": "stderr",
     "output_type": "stream",
     "text": [
      "2022-04-19 08:45:16.785857: I tensorflow/stream_executor/cuda/cuda_dnn.cc:368] Loaded cuDNN version 8202\n",
      "2022-04-19 08:45:19.396414: W tensorflow/core/common_runtime/bfc_allocator.cc:275] Allocator (GPU_0_bfc) ran out of memory trying to allocate 2.66GiB with freed_by_count=0. The caller indicates that this is not a failure, but may mean that there could be performance gains if more memory were available.\n",
      "2022-04-19 08:45:19.396496: W tensorflow/core/common_runtime/bfc_allocator.cc:275] Allocator (GPU_0_bfc) ran out of memory trying to allocate 2.66GiB with freed_by_count=0. The caller indicates that this is not a failure, but may mean that there could be performance gains if more memory were available.\n",
      "2022-04-19 08:45:19.877332: W tensorflow/core/common_runtime/bfc_allocator.cc:275] Allocator (GPU_0_bfc) ran out of memory trying to allocate 2.36GiB with freed_by_count=0. The caller indicates that this is not a failure, but may mean that there could be performance gains if more memory were available.\n",
      "2022-04-19 08:45:19.877420: W tensorflow/core/common_runtime/bfc_allocator.cc:275] Allocator (GPU_0_bfc) ran out of memory trying to allocate 2.36GiB with freed_by_count=0. The caller indicates that this is not a failure, but may mean that there could be performance gains if more memory were available.\n",
      "2022-04-19 08:45:45.555015: W tensorflow/core/common_runtime/bfc_allocator.cc:275] Allocator (GPU_0_bfc) ran out of memory trying to allocate 2.63GiB with freed_by_count=0. The caller indicates that this is not a failure, but may mean that there could be performance gains if more memory were available.\n",
      "2022-04-19 08:45:45.555122: W tensorflow/core/common_runtime/bfc_allocator.cc:275] Allocator (GPU_0_bfc) ran out of memory trying to allocate 2.63GiB with freed_by_count=0. The caller indicates that this is not a failure, but may mean that there could be performance gains if more memory were available.\n",
      "2022-04-19 08:45:46.022183: W tensorflow/core/common_runtime/bfc_allocator.cc:275] Allocator (GPU_0_bfc) ran out of memory trying to allocate 2.35GiB with freed_by_count=0. The caller indicates that this is not a failure, but may mean that there could be performance gains if more memory were available.\n",
      "2022-04-19 08:45:46.022302: W tensorflow/core/common_runtime/bfc_allocator.cc:275] Allocator (GPU_0_bfc) ran out of memory trying to allocate 2.35GiB with freed_by_count=0. The caller indicates that this is not a failure, but may mean that there could be performance gains if more memory were available.\n"
     ]
    },
    {
     "name": "stdout",
     "output_type": "stream",
     "text": [
      "Found 1000 images belonging to 2 classes.\n",
      "Found 1000 images belonging to 2 classes.\n"
     ]
    }
   ],
   "source": [
    "import os\n",
    "import numpy as np\n",
    "from tensorflow.keras.preprocessing.image import ImageDataGenerator\n",
    "\n",
    "base_dir = \"./Dataset/cats-vs-dogs\"\n",
    "train_dir = os.path.join(base_dir, \"train\")\n",
    "validation_dir = os.path.join(base_dir, \"validation\")\n",
    "test_dir = os.path.join(base_dir, \"test\")\n",
    "\n",
    "datagen = ImageDataGenerator(rescale = 1./255)\n",
    "batch_size = 20\n",
    "\n",
    "def extract_features(directory, sample_count):\n",
    "      features = np.zeros(shape=(sample_count, 4, 4, 512))\n",
    "      labels = np.zeros(shape=(sample_count))\n",
    "      \n",
    "      generator = datagen.flow_from_directory(\n",
    "            directory,\n",
    "            target_size=(150, 150),\n",
    "            batch_size=batch_size,\n",
    "            class_mode = \"binary\"\n",
    "      )\n",
    "      \n",
    "      i = 0\n",
    "      for inputs_batch, labels_batch in generator:\n",
    "            features_batch = conv_base.predict(inputs_batch)\n",
    "            features[i * batch_size : (i + 1) * batch_size] = features_batch\n",
    "            labels[i * batch_size : (i + 1) * batch_size] = labels_batch\n",
    "            i += 1\n",
    "            if i * batch_size >= sample_count:\n",
    "                  break\n",
    "      return features, labels\n",
    "\n",
    "train_features, train_labels = extract_features(train_dir, 1999)\n",
    "validation_features, validation_lables = extract_features(validation_dir, 1000)\n",
    "test_features, test_labels = extract_features(test_dir, 1000)"
   ]
  },
  {
   "cell_type": "code",
   "execution_count": 4,
   "metadata": {},
   "outputs": [],
   "source": [
    "train_features = np.reshape(train_features, (1999, 4 * 4 * 512))\n",
    "validation_features = np.reshape(validation_features, (1000, 4 * 4 * 512))\n",
    "test_features = np.reshape(test_features, (1000, 4 * 4 * 512))"
   ]
  },
  {
   "cell_type": "code",
   "execution_count": 5,
   "metadata": {},
   "outputs": [
    {
     "name": "stdout",
     "output_type": "stream",
     "text": [
      "Epoch 1/30\n",
      "100/100 [==============================] - 1s 10ms/step - loss: 0.5929 - accuracy: 0.6678 - val_loss: 0.4412 - val_accuracy: 0.8350\n",
      "Epoch 2/30\n",
      "100/100 [==============================] - 1s 7ms/step - loss: 0.4366 - accuracy: 0.8094 - val_loss: 0.3629 - val_accuracy: 0.8610\n",
      "Epoch 3/30\n",
      "100/100 [==============================] - 1s 6ms/step - loss: 0.3597 - accuracy: 0.8519 - val_loss: 0.3183 - val_accuracy: 0.8800\n",
      "Epoch 4/30\n",
      "100/100 [==============================] - 1s 7ms/step - loss: 0.3222 - accuracy: 0.8589 - val_loss: 0.2963 - val_accuracy: 0.8850\n",
      "Epoch 5/30\n",
      "100/100 [==============================] - 1s 7ms/step - loss: 0.2890 - accuracy: 0.8839 - val_loss: 0.2823 - val_accuracy: 0.8860\n",
      "Epoch 6/30\n",
      "100/100 [==============================] - 1s 7ms/step - loss: 0.2628 - accuracy: 0.8874 - val_loss: 0.2664 - val_accuracy: 0.8950\n",
      "Epoch 7/30\n",
      "100/100 [==============================] - 1s 7ms/step - loss: 0.2450 - accuracy: 0.9045 - val_loss: 0.2837 - val_accuracy: 0.8730\n",
      "Epoch 8/30\n",
      "100/100 [==============================] - 1s 6ms/step - loss: 0.2341 - accuracy: 0.9035 - val_loss: 0.2521 - val_accuracy: 0.8940\n",
      "Epoch 9/30\n",
      "100/100 [==============================] - 1s 6ms/step - loss: 0.2206 - accuracy: 0.9170 - val_loss: 0.2503 - val_accuracy: 0.8970\n",
      "Epoch 10/30\n",
      "100/100 [==============================] - 1s 6ms/step - loss: 0.2082 - accuracy: 0.9185 - val_loss: 0.2444 - val_accuracy: 0.9040\n",
      "Epoch 11/30\n",
      "100/100 [==============================] - 1s 7ms/step - loss: 0.2019 - accuracy: 0.9230 - val_loss: 0.2397 - val_accuracy: 0.9020\n",
      "Epoch 12/30\n",
      "100/100 [==============================] - 1s 7ms/step - loss: 0.1861 - accuracy: 0.9320 - val_loss: 0.2422 - val_accuracy: 0.8990\n",
      "Epoch 13/30\n",
      "100/100 [==============================] - 1s 7ms/step - loss: 0.1751 - accuracy: 0.9380 - val_loss: 0.2380 - val_accuracy: 0.9040\n",
      "Epoch 14/30\n",
      "100/100 [==============================] - 1s 7ms/step - loss: 0.1667 - accuracy: 0.9395 - val_loss: 0.2326 - val_accuracy: 0.9030\n",
      "Epoch 15/30\n",
      "100/100 [==============================] - 1s 7ms/step - loss: 0.1603 - accuracy: 0.9405 - val_loss: 0.2318 - val_accuracy: 0.9060\n",
      "Epoch 16/30\n",
      "100/100 [==============================] - 1s 6ms/step - loss: 0.1574 - accuracy: 0.9470 - val_loss: 0.2305 - val_accuracy: 0.9070\n",
      "Epoch 17/30\n",
      "100/100 [==============================] - 1s 6ms/step - loss: 0.1550 - accuracy: 0.9450 - val_loss: 0.2296 - val_accuracy: 0.9050\n",
      "Epoch 18/30\n",
      "100/100 [==============================] - 1s 7ms/step - loss: 0.1437 - accuracy: 0.9515 - val_loss: 0.2325 - val_accuracy: 0.9040\n",
      "Epoch 19/30\n",
      "100/100 [==============================] - 1s 7ms/step - loss: 0.1365 - accuracy: 0.9555 - val_loss: 0.2306 - val_accuracy: 0.9040\n",
      "Epoch 20/30\n",
      "100/100 [==============================] - 1s 7ms/step - loss: 0.1331 - accuracy: 0.9570 - val_loss: 0.2273 - val_accuracy: 0.9070\n",
      "Epoch 21/30\n",
      "100/100 [==============================] - 1s 7ms/step - loss: 0.1233 - accuracy: 0.9610 - val_loss: 0.2275 - val_accuracy: 0.9070\n",
      "Epoch 22/30\n",
      "100/100 [==============================] - 1s 6ms/step - loss: 0.1256 - accuracy: 0.9605 - val_loss: 0.2259 - val_accuracy: 0.9090\n",
      "Epoch 23/30\n",
      "100/100 [==============================] - 1s 7ms/step - loss: 0.1190 - accuracy: 0.9600 - val_loss: 0.2286 - val_accuracy: 0.9050\n",
      "Epoch 24/30\n",
      "100/100 [==============================] - 1s 7ms/step - loss: 0.1114 - accuracy: 0.9675 - val_loss: 0.2266 - val_accuracy: 0.9080\n",
      "Epoch 25/30\n",
      "100/100 [==============================] - 1s 6ms/step - loss: 0.1132 - accuracy: 0.9635 - val_loss: 0.2290 - val_accuracy: 0.9070\n",
      "Epoch 26/30\n",
      "100/100 [==============================] - 1s 7ms/step - loss: 0.1034 - accuracy: 0.9655 - val_loss: 0.2268 - val_accuracy: 0.9070\n",
      "Epoch 27/30\n",
      "100/100 [==============================] - 1s 7ms/step - loss: 0.1018 - accuracy: 0.9640 - val_loss: 0.2276 - val_accuracy: 0.9070\n",
      "Epoch 28/30\n",
      "100/100 [==============================] - 1s 7ms/step - loss: 0.0979 - accuracy: 0.9670 - val_loss: 0.2311 - val_accuracy: 0.9070\n",
      "Epoch 29/30\n",
      "100/100 [==============================] - 1s 7ms/step - loss: 0.0937 - accuracy: 0.9725 - val_loss: 0.2317 - val_accuracy: 0.9080\n",
      "Epoch 30/30\n",
      "100/100 [==============================] - 1s 7ms/step - loss: 0.0871 - accuracy: 0.9750 - val_loss: 0.2321 - val_accuracy: 0.9090\n"
     ]
    }
   ],
   "source": [
    "from tensorflow.keras import models\n",
    "from tensorflow.keras import layers\n",
    "from tensorflow.keras import optimizers\n",
    "\n",
    "model = models.Sequential()\n",
    "model.add(layers.Dense(256, activation=\"relu\", input_dim = 4 * 4 * 512))\n",
    "model.add(layers.Dropout(0.5))\n",
    "model.add(layers.Dense(1, activation=\"sigmoid\"))\n",
    "\n",
    "model.compile(optimizer=optimizers.RMSprop(learning_rate = 2e-5),\n",
    "              loss=\"binary_crossentropy\",\n",
    "              metrics=[\"accuracy\"])\n",
    "\n",
    "history = model.fit(train_features, train_labels,\n",
    "                    epochs=30,\n",
    "                    batch_size=20,\n",
    "                    validation_data = (validation_features, validation_lables))"
   ]
  },
  {
   "cell_type": "code",
   "execution_count": 7,
   "metadata": {},
   "outputs": [
    {
     "data": {
      "image/png": "[encoded data removed]",
      "text/plain": [
       "<Figure size 432x288 with 1 Axes>"
      ]
     },
     "metadata": {
      "needs_background": "light"
     },
     "output_type": "display_data"
    },
    {
     "data": {
      "image/png": "[encoded data removed]",
      "text/plain": [
       "<Figure size 432x288 with 1 Axes>"
      ]
     },
     "metadata": {
      "needs_background": "light"
     },
     "output_type": "display_data"
    }
   ],
   "source": [
    "import matplotlib.pyplot as plt\n",
    "\n",
    "acc = history.history[\"accuracy\"]\n",
    "val_acc = history.history[\"val_accuracy\"]\n",
    "loss = history.history[\"loss\"]\n",
    "val_loss = history.history[\"val_loss\"]\n",
    "\n",
    "epochs = range(1, len(acc) + 1)\n",
    "\n",
    "plt.plot(epochs, acc, \"bo\", label=\"Training acc\")\n",
    "plt.plot(epochs, val_acc, \"b\", label=\"Validation acc\")\n",
    "plt.title(\"Training and Validation accuracy\")\n",
    "plt.legend()\n",
    "\n",
    "plt.figure()\n",
    "\n",
    "plt.plot(epochs, loss, \"bo\", label = \"Training loss\")\n",
    "plt.plot(epochs, val_loss, \"b\", label = \"Validation loss\")\n",
    "plt.title(\"Training and Validation loss\")\n",
    "plt.legend()\n",
    "\n",
    "plt.show()"
   ]
  },
  {
   "cell_type": "markdown",
   "metadata": {},
   "source": [
    "2. 데이터 증식을 사용한 특성 추출"
   ]
  },
  {
   "cell_type": "code",
   "execution_count": 10,
   "metadata": {},
   "outputs": [
    {
     "name": "stdout",
     "output_type": "stream",
     "text": [
      "Model: \"sequential_3\"\n",
      "_________________________________________________________________\n",
      " Layer (type)                Output Shape              Param #   \n",
      "=================================================================\n",
      " vgg16 (Functional)          (None, 4, 4, 512)         14714688  \n",
      "                                                                 \n",
      " flatten_1 (Flatten)         (None, 8192)              0         \n",
      "                                                                 \n",
      " dense_4 (Dense)             (None, 256)               2097408   \n",
      "                                                                 \n",
      " dense_5 (Dense)             (None, 1)                 257       \n",
      "                                                                 \n",
      "=================================================================\n",
      "Total params: 16,812,353\n",
      "Trainable params: 16,812,353\n",
      "Non-trainable params: 0\n",
      "_________________________________________________________________\n"
     ]
    }
   ],
   "source": [
    "from tensorflow.keras import models\n",
    "from tensorflow.keras import layers\n",
    "\n",
    "model = models.Sequential()\n",
    "model.add(conv_base)\n",
    "model.add(layers.Flatten())\n",
    "model.add(layers.Dense(256, activation = \"relu\"))\n",
    "model.add(layers.Dense(1, activation = \"sigmoid\"))\n",
    "\n",
    "model.summary()"
   ]
  },
  {
   "cell_type": "code",
   "execution_count": 11,
   "metadata": {},
   "outputs": [
    {
     "name": "stdout",
     "output_type": "stream",
     "text": [
      "conv_base를 동결하기 전 훈련되는 가중치의 수:  30\n",
      "conv_base를 동결한 후 훈련되는 가중치의 수:  4\n"
     ]
    }
   ],
   "source": [
    "print(\"conv_base를 동결하기 전 훈련되는 가중치의 수: \", len(model.trainable_weights))\n",
    "\n",
    "conv_base.trainable = False\n",
    "print(\"conv_base를 동결한 후 훈련되는 가중치의 수: \", len(model.trainable_weights))"
   ]
  },
  {
   "cell_type": "code",
   "execution_count": 14,
   "metadata": {},
   "outputs": [
    {
     "name": "stdout",
     "output_type": "stream",
     "text": [
      "Found 1999 images belonging to 2 classes.\n",
      "Found 1000 images belonging to 2 classes.\n",
      "Epoch 1/30\n",
      "100/100 - 31s - loss: 0.5953 - accuracy: 0.6923 - val_loss: 0.4805 - val_accuracy: 0.7740 - 31s/epoch - 314ms/step\n",
      "Epoch 2/30\n",
      "100/100 - 36s - loss: 0.4898 - accuracy: 0.7809 - val_loss: 0.3795 - val_accuracy: 0.8500 - 36s/epoch - 358ms/step\n",
      "Epoch 3/30\n",
      "100/100 - 35s - loss: 0.4390 - accuracy: 0.8014 - val_loss: 0.3352 - val_accuracy: 0.8640 - 35s/epoch - 353ms/step\n",
      "Epoch 4/30\n",
      "100/100 - 34s - loss: 0.4028 - accuracy: 0.8219 - val_loss: 0.3088 - val_accuracy: 0.8750 - 34s/epoch - 337ms/step\n",
      "Epoch 5/30\n",
      "100/100 - 36s - loss: 0.3893 - accuracy: 0.8239 - val_loss: 0.2898 - val_accuracy: 0.8850 - 36s/epoch - 358ms/step\n",
      "Epoch 6/30\n",
      "100/100 - 31s - loss: 0.3694 - accuracy: 0.8344 - val_loss: 0.2860 - val_accuracy: 0.8860 - 31s/epoch - 305ms/step\n",
      "Epoch 7/30\n",
      "100/100 - 31s - loss: 0.3529 - accuracy: 0.8484 - val_loss: 0.2761 - val_accuracy: 0.8780 - 31s/epoch - 306ms/step\n",
      "Epoch 8/30\n",
      "100/100 - 36s - loss: 0.3484 - accuracy: 0.8394 - val_loss: 0.3128 - val_accuracy: 0.8620 - 36s/epoch - 364ms/step\n",
      "Epoch 9/30\n",
      "100/100 - 31s - loss: 0.3434 - accuracy: 0.8519 - val_loss: 0.2687 - val_accuracy: 0.8820 - 31s/epoch - 315ms/step\n",
      "Epoch 10/30\n",
      "100/100 - 34s - loss: 0.3288 - accuracy: 0.8564 - val_loss: 0.2563 - val_accuracy: 0.8900 - 34s/epoch - 344ms/step\n",
      "Epoch 11/30\n",
      "100/100 - 36s - loss: 0.3318 - accuracy: 0.8554 - val_loss: 0.2565 - val_accuracy: 0.8930 - 36s/epoch - 360ms/step\n",
      "Epoch 12/30\n",
      "100/100 - 31s - loss: 0.3270 - accuracy: 0.8494 - val_loss: 0.2528 - val_accuracy: 0.8970 - 31s/epoch - 311ms/step\n",
      "Epoch 13/30\n",
      "100/100 - 36s - loss: 0.3278 - accuracy: 0.8524 - val_loss: 0.2532 - val_accuracy: 0.8910 - 36s/epoch - 361ms/step\n",
      "Epoch 14/30\n",
      "100/100 - 36s - loss: 0.3149 - accuracy: 0.8689 - val_loss: 0.2521 - val_accuracy: 0.8990 - 36s/epoch - 361ms/step\n",
      "Epoch 15/30\n",
      "100/100 - 31s - loss: 0.3097 - accuracy: 0.8674 - val_loss: 0.2577 - val_accuracy: 0.8920 - 31s/epoch - 309ms/step\n",
      "Epoch 16/30\n",
      "100/100 - 31s - loss: 0.3091 - accuracy: 0.8704 - val_loss: 0.2450 - val_accuracy: 0.9000 - 31s/epoch - 311ms/step\n",
      "Epoch 17/30\n",
      "100/100 - 32s - loss: 0.3023 - accuracy: 0.8779 - val_loss: 0.2531 - val_accuracy: 0.8970 - 32s/epoch - 316ms/step\n",
      "Epoch 18/30\n",
      "100/100 - 28s - loss: 0.2932 - accuracy: 0.8784 - val_loss: 0.2421 - val_accuracy: 0.8960 - 28s/epoch - 278ms/step\n",
      "Epoch 19/30\n",
      "100/100 - 50s - loss: 0.2996 - accuracy: 0.8679 - val_loss: 0.2444 - val_accuracy: 0.8980 - 50s/epoch - 505ms/step\n",
      "Epoch 20/30\n",
      "100/100 - 51s - loss: 0.2978 - accuracy: 0.8744 - val_loss: 0.2406 - val_accuracy: 0.8970 - 51s/epoch - 507ms/step\n",
      "Epoch 21/30\n",
      "100/100 - 51s - loss: 0.3017 - accuracy: 0.8634 - val_loss: 0.2399 - val_accuracy: 0.9070 - 51s/epoch - 509ms/step\n",
      "Epoch 22/30\n",
      "100/100 - 51s - loss: 0.3156 - accuracy: 0.8609 - val_loss: 0.2371 - val_accuracy: 0.9080 - 51s/epoch - 509ms/step\n",
      "Epoch 23/30\n",
      "100/100 - 51s - loss: 0.2962 - accuracy: 0.8774 - val_loss: 0.2389 - val_accuracy: 0.9010 - 51s/epoch - 509ms/step\n",
      "Epoch 24/30\n",
      "100/100 - 51s - loss: 0.2997 - accuracy: 0.8804 - val_loss: 0.2369 - val_accuracy: 0.9020 - 51s/epoch - 508ms/step\n",
      "Epoch 25/30\n",
      "100/100 - 51s - loss: 0.2912 - accuracy: 0.8779 - val_loss: 0.2395 - val_accuracy: 0.8970 - 51s/epoch - 508ms/step\n",
      "Epoch 26/30\n",
      "100/100 - 51s - loss: 0.2901 - accuracy: 0.8764 - val_loss: 0.2393 - val_accuracy: 0.9030 - 51s/epoch - 507ms/step\n",
      "Epoch 27/30\n",
      "100/100 - 51s - loss: 0.2945 - accuracy: 0.8694 - val_loss: 0.2359 - val_accuracy: 0.9000 - 51s/epoch - 506ms/step\n",
      "Epoch 28/30\n",
      "100/100 - 51s - loss: 0.2922 - accuracy: 0.8769 - val_loss: 0.2430 - val_accuracy: 0.9020 - 51s/epoch - 505ms/step\n",
      "Epoch 29/30\n",
      "100/100 - 51s - loss: 0.2690 - accuracy: 0.8869 - val_loss: 0.2368 - val_accuracy: 0.8970 - 51s/epoch - 507ms/step\n",
      "Epoch 30/30\n",
      "100/100 - 22s - loss: 0.2751 - accuracy: 0.8754 - val_loss: 0.2336 - val_accuracy: 0.9060 - 22s/epoch - 222ms/step\n"
     ]
    }
   ],
   "source": [
    "from tensorflow.keras.preprocessing.image import ImageDataGenerator\n",
    "from tensorflow.keras import optimizers\n",
    "\n",
    "train_datagen = ImageDataGenerator(rescale=1./255,\n",
    "                                   rotation_range = 40,\n",
    "                                   width_shift_range = 0.2,\n",
    "                                   height_shift_range = 0.2,\n",
    "                                   shear_range = 0.2,\n",
    "                                   zoom_range = 0.2,\n",
    "                                   horizontal_flip = True,\n",
    "                                   fill_mode = \"nearest\")\n",
    "\n",
    "test_datagen = ImageDataGenerator(rescale=1./255)\n",
    "\n",
    "train_generator = train_datagen.flow_from_directory(train_dir,\n",
    "                                                    target_size = (150, 150),\n",
    "                                                    batch_size = 20,\n",
    "                                                    class_mode = \"binary\")\n",
    "\n",
    "validation_generator = test_datagen.flow_from_directory(validation_dir,\n",
    "                                                        target_size = (150, 150),\n",
    "                                                        batch_size = 20,\n",
    "                                                        class_mode = \"binary\")\n",
    "\n",
    "model.compile(loss = \"binary_crossentropy\",\n",
    "              optimizer = optimizers.RMSprop(lr=2e-5),\n",
    "              metrics = [\"accuracy\"])\n",
    "\n",
    "history = model.fit(train_generator,\n",
    "                    steps_per_epoch = 100,\n",
    "                    epochs = 30,\n",
    "                    validation_data = validation_generator,\n",
    "                    validation_steps = 50,\n",
    "                    verbose = 2)"
   ]
  },
  {
   "cell_type": "code",
   "execution_count": 15,
   "metadata": {},
   "outputs": [
    {
     "data": {
      "image/png": "[encoded data removed]",
      "text/plain": [
       "<Figure size 432x288 with 1 Axes>"
      ]
     },
     "metadata": {
      "needs_background": "light"
     },
     "output_type": "display_data"
    },
    {
     "data": {
      "image/png": "[encoded data removed]",
      "text/plain": [
       "<Figure size 432x288 with 1 Axes>"
      ]
     },
     "metadata": {
      "needs_background": "light"
     },
     "output_type": "display_data"
    }
   ],
   "source": [
    "acc = history.history[\"accuracy\"]\n",
    "val_acc = history.history[\"val_accuracy\"]\n",
    "loss = history.history[\"loss\"]\n",
    "val_loss = history.history[\"val_loss\"]\n",
    "\n",
    "epochs = range(1, len(acc) + 1)\n",
    "\n",
    "plt.plot(epochs, acc, \"bo\", label=\"Training acc\")\n",
    "plt.plot(epochs, val_acc, \"b\", label=\"Validation acc\")\n",
    "plt.title(\"Training and Validation accuracy\")\n",
    "plt.legend()\n",
    "\n",
    "plt.figure()\n",
    "\n",
    "plt.plot(epochs, loss, \"bo\", label = \"Training loss\")\n",
    "plt.plot(epochs, val_loss, \"b\", label = \"Validation loss\")\n",
    "plt.title(\"Training and Validation loss\")\n",
    "plt.legend()\n",
    "\n",
    "plt.show()"
   ]
  },
  {
   "cell_type": "code",
   "execution_count": 17,
   "metadata": {},
   "outputs": [
    {
     "name": "stdout",
     "output_type": "stream",
     "text": [
      "Found 1000 images belonging to 2 classes.\n"
     ]
    },
    {
     "name": "stderr",
     "output_type": "stream",
     "text": [
      "/tmp/ipykernel_3425/1334733140.py:6: UserWarning: `Model.evaluate_generator` is deprecated and will be removed in a future version. Please use `Model.evaluate`, which supports generators.\n",
      "  test_loss, test_acc = model.evaluate_generator(test_generator, steps = 50)\n"
     ]
    },
    {
     "name": "stdout",
     "output_type": "stream",
     "text": [
      "test acc :  0.8960000276565552\n"
     ]
    }
   ],
   "source": [
    "test_generator = test_datagen.flow_from_directory(test_dir,\n",
    "                                                  target_size = (150, 150),\n",
    "                                                  batch_size = 20,\n",
    "                                                  class_mode = \"binary\")\n",
    "\n",
    "test_loss, test_acc = model.evaluate_generator(test_generator, steps = 50)\n",
    "print(\"test acc : \", test_acc)"
   ]
  },
  {
   "cell_type": "code",
   "execution_count": null,
   "metadata": {},
   "outputs": [],
   "source": []
  }
 ],
 "metadata": {
  "interpreter": {
   "hash": "4e5aabf685a30631e3d6236dff8b3ac5a6d3107c1574662e0e1864020afd59eb"
  },
  "kernelspec": {
   "display_name": "Python 3.8.10 ('selfstudy_venv': venv)",
   "language": "python",
   "name": "python3"
  },
  "language_info": {
   "codemirror_mode": {
    "name": "ipython",
    "version": 3
   },
   "file_extension": ".py",
   "mimetype": "text/x-python",
   "name": "python",
   "nbconvert_exporter": "python",
   "pygments_lexer": "ipython3",
   "version": "3.8.10"
  },
  "orig_nbformat": 4
 },
 "nbformat": 4,
 "nbformat_minor": 2
}
