{
 "cells": [
  {
   "cell_type": "markdown",
   "metadata": {},
   "source": [
    "### 1. 변수의 사용 범위"
   ]
  },
  {
   "cell_type": "code",
   "execution_count": 2,
   "metadata": {},
   "outputs": [
    {
     "name": "stdout",
     "output_type": "stream",
     "text": [
      "10\n",
      "10\n"
     ]
    }
   ],
   "source": [
    "# 함수 밖의 변수를 사용할 수 있다 -> 전역 변수\n",
    "x = 10\n",
    "def foo():\n",
    "    print(x)\n",
    "\n",
    "foo()\n",
    "print(x)"
   ]
  },
  {
   "cell_type": "code",
   "execution_count": 1,
   "metadata": {},
   "outputs": [
    {
     "name": "stdout",
     "output_type": "stream",
     "text": [
      "10\n"
     ]
    },
    {
     "ename": "NameError",
     "evalue": "name 'x' is not defined",
     "output_type": "error",
     "traceback": [
      "\u001b[0;31m---------------------------------------------------------------------------\u001b[0m",
      "\u001b[0;31mNameError\u001b[0m                                 Traceback (most recent call last)",
      "\u001b[1;32m/home/sydney/Desktop/2022_SELF_STUDY/코딩도장/Uniy33_클로저.ipynb Cell 3\u001b[0m in \u001b[0;36m<cell line: 6>\u001b[0;34m()\u001b[0m\n\u001b[1;32m      <a href='vscode-notebook-cell:/home/sydney/Desktop/2022_SELF_STUDY/%EC%BD%94%EB%94%A9%EB%8F%84%EC%9E%A5/Uniy33_%ED%81%B4%EB%A1%9C%EC%A0%80.ipynb#ch0000002?line=2'>3</a>\u001b[0m     \u001b[39mprint\u001b[39m(x)\n\u001b[1;32m      <a href='vscode-notebook-cell:/home/sydney/Desktop/2022_SELF_STUDY/%EC%BD%94%EB%94%A9%EB%8F%84%EC%9E%A5/Uniy33_%ED%81%B4%EB%A1%9C%EC%A0%80.ipynb#ch0000002?line=4'>5</a>\u001b[0m foo()\n\u001b[0;32m----> <a href='vscode-notebook-cell:/home/sydney/Desktop/2022_SELF_STUDY/%EC%BD%94%EB%94%A9%EB%8F%84%EC%9E%A5/Uniy33_%ED%81%B4%EB%A1%9C%EC%A0%80.ipynb#ch0000002?line=5'>6</a>\u001b[0m \u001b[39mprint\u001b[39m(x)\n",
      "\u001b[0;31mNameError\u001b[0m: name 'x' is not defined"
     ]
    }
   ],
   "source": [
    "### 지역변수는 호출 할 수 없다... 단! 위의 셀부터 순차적으로 실행시키는 경우, 메모리에 남아있는 전역변수 x 때문에 마지막 print(x) 가 정상적으로 출력될 수도 있다.\n",
    "def foo():\n",
    "    x = 10\n",
    "    print(x)\n",
    "\n",
    "foo()\n",
    "print(x)"
   ]
  },
  {
   "cell_type": "markdown",
   "metadata": {},
   "source": [
    "함수 안에서 전역 변수 변경"
   ]
  },
  {
   "cell_type": "code",
   "execution_count": 3,
   "metadata": {},
   "outputs": [
    {
     "name": "stdout",
     "output_type": "stream",
     "text": [
      "20\n",
      "10\n"
     ]
    }
   ],
   "source": [
    "x = 10\n",
    "def foo():\n",
    "    x = 20\n",
    "    print(x)\n",
    "\n",
    "foo() # 지역변수 출력\n",
    "print(x) # 전역변수 출력"
   ]
  },
  {
   "cell_type": "code",
   "execution_count": 4,
   "metadata": {},
   "outputs": [
    {
     "name": "stdout",
     "output_type": "stream",
     "text": [
      "20\n",
      "20\n"
     ]
    }
   ],
   "source": [
    "# 함수 안에서 전역 변수의 값을 바꾸려면 global 키워드 사용\n",
    "\n",
    "x = 10\n",
    "def foo():\n",
    "    global x\n",
    "    x = 20\n",
    "    print(x)\n",
    "\n",
    "foo()\n",
    "print(x)"
   ]
  },
  {
   "cell_type": "code",
   "execution_count": 5,
   "metadata": {},
   "outputs": [
    {
     "name": "stdout",
     "output_type": "stream",
     "text": [
      "20\n",
      "20\n"
     ]
    }
   ],
   "source": [
    "# 전역변수가 없을때 함수 안에서 global로 만들어진 변수는 전역변수가 된다.\n",
    "def foo():\n",
    "    global x\n",
    "    x = 20\n",
    "    print(x)\n",
    "\n",
    "foo()\n",
    "print(x)"
   ]
  },
  {
   "cell_type": "code",
   "execution_count": 6,
   "metadata": {},
   "outputs": [
    {
     "name": "stdout",
     "output_type": "stream",
     "text": [
      "{'x': 100}\n"
     ]
    }
   ],
   "source": [
    "### 네임 스페이스 = locals() 현재 변수가 저장된 네임스페이스를 딕셔너리 형태로 출력\n",
    "def foo():\n",
    "    x = 100\n",
    "    print(locals())\n",
    "\n",
    "foo()"
   ]
  },
  {
   "cell_type": "code",
   "execution_count": 7,
   "metadata": {},
   "outputs": [
    {
     "data": {
      "text/plain": [
       "{'__name__': '__main__',\n",
       " '__doc__': 'Automatically created module for IPython interactive environment',\n",
       " '__package__': None,\n",
       " '__loader__': None,\n",
       " '__spec__': None,\n",
       " '__builtin__': <module 'builtins' (built-in)>,\n",
       " '__builtins__': <module 'builtins' (built-in)>,\n",
       " '_ih': ['',\n",
       "  'def foo():\\n    x = 10\\n    print(x)\\n\\nfoo()\\nprint(x)',\n",
       "  '# 함수 밖의 변수를 사용할 수 있다 -> 전역 변수\\nx = 10\\ndef foo():\\n    print(x)\\n\\nfoo()\\nprint(x)',\n",
       "  'x = 10\\ndef foo():\\n    x = 20\\n    print(x)\\n\\nfoo()\\nprint(x)',\n",
       "  '# 함수 안에서 전역 변수의 값을 바꾸려면 global 키워드 사용\\n\\nx = 10\\ndef foo():\\n    global x\\n    x = 20\\n    print(x)\\n\\nfoo()\\nprint(x)',\n",
       "  '# 전역변수가 없을때 함수 안에서 global로 만들어진 변수는 전역변수가 된다.\\ndef foo():\\n    global x\\n    x = 20\\n    print(x)\\n\\nfoo()\\nprint(x)',\n",
       "  '### 네임 스페이스 = locals() 현재 변수가 저장된 네임스페이스를 딕셔너리 형태로 출력\\ndef foo():\\n    x = 100\\n    print(locals())\\n\\nfoo()',\n",
       "  'locals()'],\n",
       " '_oh': {},\n",
       " '_dh': [PosixPath('/home/sydney/Desktop/2022_SELF_STUDY/코딩도장')],\n",
       " 'In': ['',\n",
       "  'def foo():\\n    x = 10\\n    print(x)\\n\\nfoo()\\nprint(x)',\n",
       "  '# 함수 밖의 변수를 사용할 수 있다 -> 전역 변수\\nx = 10\\ndef foo():\\n    print(x)\\n\\nfoo()\\nprint(x)',\n",
       "  'x = 10\\ndef foo():\\n    x = 20\\n    print(x)\\n\\nfoo()\\nprint(x)',\n",
       "  '# 함수 안에서 전역 변수의 값을 바꾸려면 global 키워드 사용\\n\\nx = 10\\ndef foo():\\n    global x\\n    x = 20\\n    print(x)\\n\\nfoo()\\nprint(x)',\n",
       "  '# 전역변수가 없을때 함수 안에서 global로 만들어진 변수는 전역변수가 된다.\\ndef foo():\\n    global x\\n    x = 20\\n    print(x)\\n\\nfoo()\\nprint(x)',\n",
       "  '### 네임 스페이스 = locals() 현재 변수가 저장된 네임스페이스를 딕셔너리 형태로 출력\\ndef foo():\\n    x = 100\\n    print(locals())\\n\\nfoo()',\n",
       "  'locals()'],\n",
       " 'Out': {},\n",
       " 'get_ipython': <bound method InteractiveShell.get_ipython of <ipykernel.zmqshell.ZMQInteractiveShell object at 0x7f8cebfd1580>>,\n",
       " 'exit': <IPython.core.autocall.ZMQExitAutocall at 0x7f8cebfd1f40>,\n",
       " 'quit': <IPython.core.autocall.ZMQExitAutocall at 0x7f8cebfd1f40>,\n",
       " '_': '',\n",
       " '__': '',\n",
       " '___': '',\n",
       " 'sys': <module 'sys' (built-in)>,\n",
       " 'os': <module 'os' from '/usr/lib/python3.8/os.py'>,\n",
       " '__vsc_ipynb_file__': '/home/sydney/Desktop/2022_SELF_STUDY/코딩도장/Uniy33_클로저.ipynb',\n",
       " '_i': '### 네임 스페이스 = locals() 현재 변수가 저장된 네임스페이스를 딕셔너리 형태로 출력\\ndef foo():\\n    x = 100\\n    print(locals())\\n\\nfoo()',\n",
       " '_ii': '# 전역변수가 없을때 함수 안에서 global로 만들어진 변수는 전역변수가 된다.\\ndef foo():\\n    global x\\n    x = 20\\n    print(x)\\n\\nfoo()\\nprint(x)',\n",
       " '_iii': '# 함수 안에서 전역 변수의 값을 바꾸려면 global 키워드 사용\\n\\nx = 10\\ndef foo():\\n    global x\\n    x = 20\\n    print(x)\\n\\nfoo()\\nprint(x)',\n",
       " '_i1': 'def foo():\\n    x = 10\\n    print(x)\\n\\nfoo()\\nprint(x)',\n",
       " 'foo': <function __main__.foo()>,\n",
       " '_i2': '# 함수 밖의 변수를 사용할 수 있다 -> 전역 변수\\nx = 10\\ndef foo():\\n    print(x)\\n\\nfoo()\\nprint(x)',\n",
       " 'x': 20,\n",
       " '_i3': 'x = 10\\ndef foo():\\n    x = 20\\n    print(x)\\n\\nfoo()\\nprint(x)',\n",
       " '_i4': '# 함수 안에서 전역 변수의 값을 바꾸려면 global 키워드 사용\\n\\nx = 10\\ndef foo():\\n    global x\\n    x = 20\\n    print(x)\\n\\nfoo()\\nprint(x)',\n",
       " '_i5': '# 전역변수가 없을때 함수 안에서 global로 만들어진 변수는 전역변수가 된다.\\ndef foo():\\n    global x\\n    x = 20\\n    print(x)\\n\\nfoo()\\nprint(x)',\n",
       " '_i6': '### 네임 스페이스 = locals() 현재 변수가 저장된 네임스페이스를 딕셔너리 형태로 출력\\ndef foo():\\n    x = 100\\n    print(locals())\\n\\nfoo()',\n",
       " '_i7': 'locals()'}"
      ]
     },
     "execution_count": 7,
     "metadata": {},
     "output_type": "execute_result"
    }
   ],
   "source": [
    "locals()"
   ]
  },
  {
   "cell_type": "markdown",
   "metadata": {},
   "source": [
    "### 2. 함수안에서 함수 만들기"
   ]
  },
  {
   "cell_type": "code",
   "execution_count": 17,
   "metadata": {},
   "outputs": [
    {
     "name": "stdout",
     "output_type": "stream",
     "text": [
      "Hello, world!\n"
     ]
    }
   ],
   "source": [
    "def print_hello():\n",
    "    hello = 'Hello, world!'\n",
    "    def print_message():\n",
    "        print(hello)\n",
    "    print_message()\n",
    "\n",
    "print_hello()"
   ]
  },
  {
   "cell_type": "markdown",
   "metadata": {},
   "source": [
    "지역 변수의 범위"
   ]
  },
  {
   "cell_type": "code",
   "execution_count": 18,
   "metadata": {},
   "outputs": [],
   "source": [
    "def print_hello():\n",
    "    hello = \"hello, world!\"\n",
    "    def print_message():\n",
    "        print(hello) # 바깥쪽 함수의 지역변수 = \"hello, world!\""
   ]
  },
  {
   "cell_type": "code",
   "execution_count": 20,
   "metadata": {},
   "outputs": [
    {
     "name": "stdout",
     "output_type": "stream",
     "text": [
      "10\n"
     ]
    }
   ],
   "source": [
    "# 지역 변수의 변경\n",
    "def A():\n",
    "    x = 10\n",
    "    def B():\n",
    "        x = 30\n",
    "    B()\n",
    "    print(x)\n",
    "    \n",
    "A()"
   ]
  },
  {
   "cell_type": "markdown",
   "metadata": {},
   "source": [
    "nonlocal -> 현재 함수의 바깥 쪽에 있는 지역변수의 값 변경할때"
   ]
  },
  {
   "cell_type": "code",
   "execution_count": 21,
   "metadata": {},
   "outputs": [
    {
     "name": "stdout",
     "output_type": "stream",
     "text": [
      "20\n"
     ]
    }
   ],
   "source": [
    "# non-local 지역변수\n",
    "def A():\n",
    "    x = 10\n",
    "    def B():\n",
    "        nonlocal x # 함수 B 밖의 x 사용\n",
    "        x = 20\n",
    "    B()\n",
    "    print(x)\n",
    "\n",
    "A()"
   ]
  },
  {
   "cell_type": "code",
   "execution_count": 22,
   "metadata": {},
   "outputs": [
    {
     "name": "stdout",
     "output_type": "stream",
     "text": [
      "50\n",
      "400\n"
     ]
    }
   ],
   "source": [
    "# nonlocal은 현재 함수의 바깥 쪽에 있는 지역변수를 찾을 때 가장 가까운 함수부터 찾는다.\n",
    "def A():\n",
    "    x = 10\n",
    "    y = 100\n",
    "    def B():\n",
    "        x = 20\n",
    "        def C():\n",
    "            nonlocal x # 가장 가까운 B의 x = 20을 가지고 옴\n",
    "            nonlocal y # 가장 가까운 y = 100을 가지고 옴\n",
    "            x = x + 30\n",
    "            y = y + 300\n",
    "            print(x)\n",
    "            print(y)\n",
    "        C()\n",
    "    B()\n",
    "A()"
   ]
  },
  {
   "cell_type": "code",
   "execution_count": 23,
   "metadata": {},
   "outputs": [
    {
     "name": "stdout",
     "output_type": "stream",
     "text": [
      "31\n"
     ]
    }
   ],
   "source": [
    "# global은 함수의 단계와 상관없이 무조건 전역변수를 이용\n",
    "x = 1\n",
    "def A():\n",
    "    x = 10\n",
    "    def B():\n",
    "        x = 20\n",
    "        def C():\n",
    "            global x\n",
    "            x = x + 30\n",
    "            print(x)\n",
    "        C()\n",
    "    B()\n",
    "A()\n"
   ]
  },
  {
   "cell_type": "markdown",
   "metadata": {},
   "source": [
    "### 3. 클로저 사용하기"
   ]
  },
  {
   "cell_type": "markdown",
   "metadata": {},
   "source": [
    "클로저 : 자신을 둘러싼 네임스페이스의 상태값을 기억하는 함수 -> 지역 변수와 코드를 묶어서 사용하고 싶을때, 클로저에 속한 지역변수는 바깥에서 접근 못하므로 데이터를 숨기고 싶을 때 활용"
   ]
  },
  {
   "cell_type": "code",
   "execution_count": 25,
   "metadata": {},
   "outputs": [
    {
     "name": "stdout",
     "output_type": "stream",
     "text": [
      "8 11 14 17 20\n"
     ]
    }
   ],
   "source": [
    "def calc():\n",
    "    a = 3\n",
    "    b = 5\n",
    "    def mul_add(x):\n",
    "        return a * x + b # return으로 mu_add 함수 반환\n",
    "    return mul_add\n",
    "\n",
    "c = calc() # calc 함수 호출 -> clac의 지역변수와 코드 유지\n",
    "print(c(1), c(2), c(3), c(4), c(5))"
   ]
  },
  {
   "cell_type": "markdown",
   "metadata": {},
   "source": [
    "lambda로 클로저 만들기"
   ]
  },
  {
   "cell_type": "code",
   "execution_count": 27,
   "metadata": {},
   "outputs": [
    {
     "name": "stdout",
     "output_type": "stream",
     "text": [
      "8 11 14 17 20\n"
     ]
    }
   ],
   "source": [
    "def calc():\n",
    "    a = 3\n",
    "    b = 5\n",
    "    return lambda x : a*x+b\n",
    "\n",
    "c = calc()\n",
    "print(c(1), c(2), c(3), c(4), c(5))"
   ]
  },
  {
   "cell_type": "code",
   "execution_count": 30,
   "metadata": {},
   "outputs": [
    {
     "name": "stdout",
     "output_type": "stream",
     "text": [
      "8\n",
      "19\n",
      "33\n"
     ]
    }
   ],
   "source": [
    "# 클로저의 지역 변수 변경하기 -> 함수를 둘러싼 환경을 유지했다가 나중에 다시 사용\n",
    "\n",
    "def calc():\n",
    "    a = 3\n",
    "    b = 5\n",
    "    total = 0\n",
    "    def mul_add(x):\n",
    "        nonlocal total # 전역변수의 total을 불러온다\n",
    "        total = total + a*x + b # 전역 변수 total은 연산이 진행될수록 값이 누적된다.\n",
    "        print(total)\n",
    "    return mul_add\n",
    "\n",
    "c = calc()\n",
    "\n",
    "c(1)\n",
    "c(2)\n",
    "c(3)"
   ]
  }
 ],
 "metadata": {
  "kernelspec": {
   "display_name": "Python 3.8.10 ('ICV_CV_venv': venv)",
   "language": "python",
   "name": "python3"
  },
  "language_info": {
   "codemirror_mode": {
    "name": "ipython",
    "version": 3
   },
   "file_extension": ".py",
   "mimetype": "text/x-python",
   "name": "python",
   "nbconvert_exporter": "python",
   "pygments_lexer": "ipython3",
   "version": "3.8.10"
  },
  "orig_nbformat": 4,
  "vscode": {
   "interpreter": {
    "hash": "271bbe01ac197ad0a012c6b27c549ac34441fc67e348dc5710f579ffc59a42b1"
   }
  }
 },
 "nbformat": 4,
 "nbformat_minor": 2
}
